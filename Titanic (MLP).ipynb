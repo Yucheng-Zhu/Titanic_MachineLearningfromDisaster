{
 "cells": [
  {
   "cell_type": "code",
   "execution_count": 308,
   "id": "81eec36d",
   "metadata": {},
   "outputs": [
    {
     "data": {
      "text/html": [
       "<div>\n",
       "<style scoped>\n",
       "    .dataframe tbody tr th:only-of-type {\n",
       "        vertical-align: middle;\n",
       "    }\n",
       "\n",
       "    .dataframe tbody tr th {\n",
       "        vertical-align: top;\n",
       "    }\n",
       "\n",
       "    .dataframe thead th {\n",
       "        text-align: right;\n",
       "    }\n",
       "</style>\n",
       "<table border=\"1\" class=\"dataframe\">\n",
       "  <thead>\n",
       "    <tr style=\"text-align: right;\">\n",
       "      <th></th>\n",
       "      <th>PassengerId</th>\n",
       "      <th>Survived</th>\n",
       "      <th>Pclass</th>\n",
       "      <th>Name</th>\n",
       "      <th>Sex</th>\n",
       "      <th>Age</th>\n",
       "      <th>SibSp</th>\n",
       "      <th>Parch</th>\n",
       "      <th>Ticket</th>\n",
       "      <th>Fare</th>\n",
       "      <th>Cabin</th>\n",
       "      <th>Embarked</th>\n",
       "      <th>Count</th>\n",
       "    </tr>\n",
       "  </thead>\n",
       "  <tbody>\n",
       "    <tr>\n",
       "      <th>0</th>\n",
       "      <td>1</td>\n",
       "      <td>0</td>\n",
       "      <td>3</td>\n",
       "      <td>Braund, Mr. Owen Harris</td>\n",
       "      <td>False</td>\n",
       "      <td>22.0</td>\n",
       "      <td>1</td>\n",
       "      <td>0</td>\n",
       "      <td>A/5 21171</td>\n",
       "      <td>7.2500</td>\n",
       "      <td>NaN</td>\n",
       "      <td>S</td>\n",
       "      <td>True</td>\n",
       "    </tr>\n",
       "    <tr>\n",
       "      <th>1</th>\n",
       "      <td>2</td>\n",
       "      <td>1</td>\n",
       "      <td>1</td>\n",
       "      <td>Cumings, Mrs. John Bradley (Florence Briggs Th...</td>\n",
       "      <td>True</td>\n",
       "      <td>38.0</td>\n",
       "      <td>1</td>\n",
       "      <td>0</td>\n",
       "      <td>PC 17599</td>\n",
       "      <td>71.2833</td>\n",
       "      <td>C85</td>\n",
       "      <td>C</td>\n",
       "      <td>True</td>\n",
       "    </tr>\n",
       "    <tr>\n",
       "      <th>2</th>\n",
       "      <td>3</td>\n",
       "      <td>1</td>\n",
       "      <td>3</td>\n",
       "      <td>Heikkinen, Miss. Laina</td>\n",
       "      <td>True</td>\n",
       "      <td>26.0</td>\n",
       "      <td>0</td>\n",
       "      <td>0</td>\n",
       "      <td>STON/O2. 3101282</td>\n",
       "      <td>7.9250</td>\n",
       "      <td>NaN</td>\n",
       "      <td>S</td>\n",
       "      <td>True</td>\n",
       "    </tr>\n",
       "    <tr>\n",
       "      <th>3</th>\n",
       "      <td>4</td>\n",
       "      <td>1</td>\n",
       "      <td>1</td>\n",
       "      <td>Futrelle, Mrs. Jacques Heath (Lily May Peel)</td>\n",
       "      <td>True</td>\n",
       "      <td>35.0</td>\n",
       "      <td>1</td>\n",
       "      <td>0</td>\n",
       "      <td>113803</td>\n",
       "      <td>53.1000</td>\n",
       "      <td>C123</td>\n",
       "      <td>S</td>\n",
       "      <td>True</td>\n",
       "    </tr>\n",
       "    <tr>\n",
       "      <th>4</th>\n",
       "      <td>5</td>\n",
       "      <td>0</td>\n",
       "      <td>3</td>\n",
       "      <td>Allen, Mr. William Henry</td>\n",
       "      <td>False</td>\n",
       "      <td>35.0</td>\n",
       "      <td>0</td>\n",
       "      <td>0</td>\n",
       "      <td>373450</td>\n",
       "      <td>8.0500</td>\n",
       "      <td>NaN</td>\n",
       "      <td>S</td>\n",
       "      <td>True</td>\n",
       "    </tr>\n",
       "  </tbody>\n",
       "</table>\n",
       "</div>"
      ],
      "text/plain": [
       "   PassengerId  Survived  Pclass  \\\n",
       "0            1         0       3   \n",
       "1            2         1       1   \n",
       "2            3         1       3   \n",
       "3            4         1       1   \n",
       "4            5         0       3   \n",
       "\n",
       "                                                Name    Sex   Age  SibSp  \\\n",
       "0                            Braund, Mr. Owen Harris  False  22.0      1   \n",
       "1  Cumings, Mrs. John Bradley (Florence Briggs Th...   True  38.0      1   \n",
       "2                             Heikkinen, Miss. Laina   True  26.0      0   \n",
       "3       Futrelle, Mrs. Jacques Heath (Lily May Peel)   True  35.0      1   \n",
       "4                           Allen, Mr. William Henry  False  35.0      0   \n",
       "\n",
       "   Parch            Ticket     Fare Cabin Embarked  Count  \n",
       "0      0         A/5 21171   7.2500   NaN        S   True  \n",
       "1      0          PC 17599  71.2833   C85        C   True  \n",
       "2      0  STON/O2. 3101282   7.9250   NaN        S   True  \n",
       "3      0            113803  53.1000  C123        S   True  \n",
       "4      0            373450   8.0500   NaN        S   True  "
      ]
     },
     "execution_count": 308,
     "metadata": {},
     "output_type": "execute_result"
    }
   ],
   "source": [
    "# -- Variables\n",
    "RANDOM_STATE = 42\n",
    "\n",
    "# -- Import libraries\n",
    "import pandas as pd, numpy as np\n",
    "import matplotlib.pyplot as plt, seaborn as sns\n",
    "\n",
    "# -- Import codes from folders\n",
    "import os\n",
    "cwd = os.getcwd()\n",
    "%run \"{cwd}\\utils\\plots.py\"\n",
    "%run \"{cwd}\\utils\\data_cleansing.py\"\n",
    "\n",
    "# -- Load data\n",
    "df_train_raw = pd.read_csv('data/train.csv', sep = ',')  \n",
    "df_test_raw = pd.read_csv('data/test.csv', sep = ',')\n",
    "\n",
    "# -4- Preparsing features\n",
    "# -- male,female -> 0,1\n",
    "def NormalizeGender(X):\n",
    "    X_preparsed = X.copy(deep=True)\n",
    "    X_preparsed.loc[\n",
    "        X_preparsed['Sex']=='male',\n",
    "        'Sex'\n",
    "    ] = 0\n",
    "    X_preparsed.loc[\n",
    "        X_preparsed['Sex']=='female',\n",
    "        'Sex'\n",
    "    ] = 1\n",
    "    X_preparsed['Sex'] = X_preparsed['Sex'].astype('bool')\n",
    "    return X_preparsed\n",
    "df_train_preparsed = NormalizeGender(df_train_raw)\n",
    "df_test_preparsed = NormalizeGender(df_test_raw)\n",
    "\n",
    "\n",
    "\n",
    "# -- Column used for counting\n",
    "df_train_preparsed['Count'] = True; df_train_preparsed['Count'].astype('bool')\n",
    "df_test_preparsed['Count'] = True; df_test_preparsed['Count'].astype('bool')\n",
    "\n",
    "df_train_preparsed.head(5)"
   ]
  },
  {
   "cell_type": "code",
   "execution_count": 309,
   "id": "b82ba171",
   "metadata": {},
   "outputs": [
    {
     "data": {
      "text/plain": [
       "Survived         2\n",
       "Sex              2\n",
       "Pclass           3\n",
       "Embarked         3\n",
       "SibSp            7\n",
       "Parch            7\n",
       "Age             88\n",
       "Cabin          147\n",
       "Fare           248\n",
       "Ticket         681\n",
       "PassengerId    891\n",
       "Name           891\n",
       "dtype: int64"
      ]
     },
     "execution_count": 309,
     "metadata": {},
     "output_type": "execute_result"
    }
   ],
   "source": [
    "df_train_raw.nunique().sort_values()"
   ]
  },
  {
   "cell_type": "code",
   "execution_count": 310,
   "id": "ed719e78",
   "metadata": {},
   "outputs": [
    {
     "data": {
      "text/html": [
       "<div>\n",
       "<style scoped>\n",
       "    .dataframe tbody tr th:only-of-type {\n",
       "        vertical-align: middle;\n",
       "    }\n",
       "\n",
       "    .dataframe tbody tr th {\n",
       "        vertical-align: top;\n",
       "    }\n",
       "\n",
       "    .dataframe thead th {\n",
       "        text-align: right;\n",
       "    }\n",
       "</style>\n",
       "<table border=\"1\" class=\"dataframe\">\n",
       "  <thead>\n",
       "    <tr style=\"text-align: right;\">\n",
       "      <th></th>\n",
       "      <th>PassengerId</th>\n",
       "      <th>Survived</th>\n",
       "      <th>Pclass</th>\n",
       "      <th>Sex</th>\n",
       "      <th>Age</th>\n",
       "      <th>SibSp</th>\n",
       "      <th>Parch</th>\n",
       "      <th>Fare</th>\n",
       "      <th>Count</th>\n",
       "    </tr>\n",
       "    <tr>\n",
       "      <th>Embarked</th>\n",
       "      <th></th>\n",
       "      <th></th>\n",
       "      <th></th>\n",
       "      <th></th>\n",
       "      <th></th>\n",
       "      <th></th>\n",
       "      <th></th>\n",
       "      <th></th>\n",
       "      <th></th>\n",
       "    </tr>\n",
       "  </thead>\n",
       "  <tbody>\n",
       "    <tr>\n",
       "      <th>C</th>\n",
       "      <td>74820</td>\n",
       "      <td>93</td>\n",
       "      <td>317</td>\n",
       "      <td>73</td>\n",
       "      <td>4005.92</td>\n",
       "      <td>65</td>\n",
       "      <td>61</td>\n",
       "      <td>10072.2962</td>\n",
       "      <td>168</td>\n",
       "    </tr>\n",
       "    <tr>\n",
       "      <th>Q</th>\n",
       "      <td>32178</td>\n",
       "      <td>30</td>\n",
       "      <td>224</td>\n",
       "      <td>36</td>\n",
       "      <td>786.50</td>\n",
       "      <td>33</td>\n",
       "      <td>13</td>\n",
       "      <td>1022.2543</td>\n",
       "      <td>77</td>\n",
       "    </tr>\n",
       "    <tr>\n",
       "      <th>S</th>\n",
       "      <td>289496</td>\n",
       "      <td>217</td>\n",
       "      <td>1514</td>\n",
       "      <td>203</td>\n",
       "      <td>16312.75</td>\n",
       "      <td>368</td>\n",
       "      <td>266</td>\n",
       "      <td>17439.3988</td>\n",
       "      <td>644</td>\n",
       "    </tr>\n",
       "  </tbody>\n",
       "</table>\n",
       "</div>"
      ],
      "text/plain": [
       "          PassengerId  Survived  Pclass  Sex       Age  SibSp  Parch  \\\n",
       "Embarked                                                               \n",
       "C               74820        93     317   73   4005.92     65     61   \n",
       "Q               32178        30     224   36    786.50     33     13   \n",
       "S              289496       217    1514  203  16312.75    368    266   \n",
       "\n",
       "                Fare  Count  \n",
       "Embarked                     \n",
       "C         10072.2962    168  \n",
       "Q          1022.2543     77  \n",
       "S         17439.3988    644  "
      ]
     },
     "execution_count": 310,
     "metadata": {},
     "output_type": "execute_result"
    },
    {
     "data": {
      "image/png": "[encoded data removed]",
      "text/plain": [
       "<Figure size 432x288 with 1 Axes>"
      ]
     },
     "metadata": {
      "needs_background": "light"
     },
     "output_type": "display_data"
    }
   ],
   "source": [
    "# -- Plot correlation between Embarked and Survived\n",
    "Grouped = df_train_preparsed.groupby(\n",
    "    ['Embarked']\n",
    ").sum()\n",
    "plt.bar(\n",
    "    Grouped.index,\n",
    "    Grouped['Survived'] / Grouped['Count']\n",
    ")\n",
    "Plot_ShowFigures(\n",
    "    Grouped.index,\n",
    "    Grouped['Survived'], Grouped['Count'], \n",
    "    Grouped['Survived'] / Grouped['Count']\n",
    "                )\n",
    "Grouped"
   ]
  },
  {
   "cell_type": "code",
   "execution_count": 312,
   "id": "f05f59a2",
   "metadata": {},
   "outputs": [
    {
     "data": {
      "text/html": [
       "<div>\n",
       "<style scoped>\n",
       "    .dataframe tbody tr th:only-of-type {\n",
       "        vertical-align: middle;\n",
       "    }\n",
       "\n",
       "    .dataframe tbody tr th {\n",
       "        vertical-align: top;\n",
       "    }\n",
       "\n",
       "    .dataframe thead th {\n",
       "        text-align: right;\n",
       "    }\n",
       "</style>\n",
       "<table border=\"1\" class=\"dataframe\">\n",
       "  <thead>\n",
       "    <tr style=\"text-align: right;\">\n",
       "      <th></th>\n",
       "      <th>PassengerId</th>\n",
       "      <th>Survived</th>\n",
       "      <th>Pclass</th>\n",
       "      <th>Name</th>\n",
       "      <th>Sex</th>\n",
       "      <th>Age</th>\n",
       "      <th>SibSp</th>\n",
       "      <th>Parch</th>\n",
       "      <th>Ticket</th>\n",
       "      <th>Fare</th>\n",
       "      <th>Cabin</th>\n",
       "      <th>Embarked</th>\n",
       "      <th>Count</th>\n",
       "    </tr>\n",
       "  </thead>\n",
       "  <tbody>\n",
       "    <tr>\n",
       "      <th>0</th>\n",
       "      <td>1</td>\n",
       "      <td>0</td>\n",
       "      <td>3</td>\n",
       "      <td>Braund, Mr. Owen Harris</td>\n",
       "      <td>False</td>\n",
       "      <td>22.0</td>\n",
       "      <td>1</td>\n",
       "      <td>0</td>\n",
       "      <td>A/5 21171</td>\n",
       "      <td>7.2500</td>\n",
       "      <td>NaN</td>\n",
       "      <td>0.336957</td>\n",
       "      <td>True</td>\n",
       "    </tr>\n",
       "    <tr>\n",
       "      <th>1</th>\n",
       "      <td>2</td>\n",
       "      <td>1</td>\n",
       "      <td>1</td>\n",
       "      <td>Cumings, Mrs. John Bradley (Florence Briggs Th...</td>\n",
       "      <td>True</td>\n",
       "      <td>38.0</td>\n",
       "      <td>1</td>\n",
       "      <td>0</td>\n",
       "      <td>PC 17599</td>\n",
       "      <td>71.2833</td>\n",
       "      <td>C85</td>\n",
       "      <td>0.553571</td>\n",
       "      <td>True</td>\n",
       "    </tr>\n",
       "    <tr>\n",
       "      <th>2</th>\n",
       "      <td>3</td>\n",
       "      <td>1</td>\n",
       "      <td>3</td>\n",
       "      <td>Heikkinen, Miss. Laina</td>\n",
       "      <td>True</td>\n",
       "      <td>26.0</td>\n",
       "      <td>0</td>\n",
       "      <td>0</td>\n",
       "      <td>STON/O2. 3101282</td>\n",
       "      <td>7.9250</td>\n",
       "      <td>NaN</td>\n",
       "      <td>0.336957</td>\n",
       "      <td>True</td>\n",
       "    </tr>\n",
       "    <tr>\n",
       "      <th>3</th>\n",
       "      <td>4</td>\n",
       "      <td>1</td>\n",
       "      <td>1</td>\n",
       "      <td>Futrelle, Mrs. Jacques Heath (Lily May Peel)</td>\n",
       "      <td>True</td>\n",
       "      <td>35.0</td>\n",
       "      <td>1</td>\n",
       "      <td>0</td>\n",
       "      <td>113803</td>\n",
       "      <td>53.1000</td>\n",
       "      <td>C123</td>\n",
       "      <td>0.336957</td>\n",
       "      <td>True</td>\n",
       "    </tr>\n",
       "    <tr>\n",
       "      <th>4</th>\n",
       "      <td>5</td>\n",
       "      <td>0</td>\n",
       "      <td>3</td>\n",
       "      <td>Allen, Mr. William Henry</td>\n",
       "      <td>False</td>\n",
       "      <td>35.0</td>\n",
       "      <td>0</td>\n",
       "      <td>0</td>\n",
       "      <td>373450</td>\n",
       "      <td>8.0500</td>\n",
       "      <td>NaN</td>\n",
       "      <td>0.336957</td>\n",
       "      <td>True</td>\n",
       "    </tr>\n",
       "  </tbody>\n",
       "</table>\n",
       "</div>"
      ],
      "text/plain": [
       "   PassengerId  Survived  Pclass  \\\n",
       "0            1         0       3   \n",
       "1            2         1       1   \n",
       "2            3         1       3   \n",
       "3            4         1       1   \n",
       "4            5         0       3   \n",
       "\n",
       "                                                Name    Sex   Age  SibSp  \\\n",
       "0                            Braund, Mr. Owen Harris  False  22.0      1   \n",
       "1  Cumings, Mrs. John Bradley (Florence Briggs Th...   True  38.0      1   \n",
       "2                             Heikkinen, Miss. Laina   True  26.0      0   \n",
       "3       Futrelle, Mrs. Jacques Heath (Lily May Peel)   True  35.0      1   \n",
       "4                           Allen, Mr. William Henry  False  35.0      0   \n",
       "\n",
       "   Parch            Ticket     Fare Cabin  Embarked  Count  \n",
       "0      0         A/5 21171   7.2500   NaN  0.336957   True  \n",
       "1      0          PC 17599  71.2833   C85  0.553571   True  \n",
       "2      0  STON/O2. 3101282   7.9250   NaN  0.336957   True  \n",
       "3      0            113803  53.1000  C123  0.336957   True  \n",
       "4      0            373450   8.0500   NaN  0.336957   True  "
      ]
     },
     "execution_count": 312,
     "metadata": {},
     "output_type": "execute_result"
    }
   ],
   "source": [
    "# -4- Make categorical fields with few values numerical\n",
    "# -- 'Embarked': C, Q, S -> 0.553571, 0.389610, 0.336957\n",
    "df_train_numericized, SurvivalRatesForAllCategories = EncodeNumericalCategoricalVariables(\n",
    "    df_train_preparsed, \n",
    "    'Embarked',\n",
    "    NameToCalculateResultRate=('Survived','Count')\n",
    ")\n",
    "df_test_numericized, _ = EncodeNumericalCategoricalVariables(\n",
    "    df_test_preparsed, \n",
    "    'Embarked',\n",
    "    SurvivalRatesForAllCategories=SurvivalRatesForAllCategories\n",
    ")\n",
    "df_train_numericized.head(5)"
   ]
  },
  {
   "cell_type": "markdown",
   "id": "19407374",
   "metadata": {},
   "source": [
    "## Visualize correlations"
   ]
  },
  {
   "cell_type": "code",
   "execution_count": 313,
   "id": "248fc277",
   "metadata": {},
   "outputs": [
    {
     "data": {
      "image/png": "[encoded data removed]",
      "text/plain": [
       "<Figure size 864x648 with 2 Axes>"
      ]
     },
     "metadata": {
      "needs_background": "light"
     },
     "output_type": "display_data"
    }
   ],
   "source": [
    "PlotFeaturesCorrelation( df_train_numericized, drops=['PassengerId','Count'] )"
   ]
  },
  {
   "cell_type": "code",
   "execution_count": 314,
   "id": "f469c5a2",
   "metadata": {},
   "outputs": [
    {
     "data": {
      "image/png": "[encoded data removed]",
      "text/plain": [
       "<Figure size 720x432 with 1 Axes>"
      ]
     },
     "metadata": {
      "needs_background": "light"
     },
     "output_type": "display_data"
    }
   ],
   "source": [
    "PlotCorrelationToResult( df_train_numericized, 'Survived', drops=['PassengerId', 'Count'] )"
   ]
  },
  {
   "cell_type": "code",
   "execution_count": 315,
   "id": "bc05c7c5",
   "metadata": {},
   "outputs": [
    {
     "data": {
      "image/png": "[encoded data removed]",
      "text/plain": [
       "<Figure size 936x432 with 1 Axes>"
      ]
     },
     "metadata": {
      "needs_background": "light"
     },
     "output_type": "display_data"
    },
    {
     "data": {
      "image/png": "[encoded data removed]",
      "text/plain": [
       "<Figure size 936x432 with 1 Axes>"
      ]
     },
     "metadata": {
      "needs_background": "light"
     },
     "output_type": "display_data"
    },
    {
     "data": {
      "image/png": "[encoded data removed]",
      "text/plain": [
       "<Figure size 936x432 with 1 Axes>"
      ]
     },
     "metadata": {
      "needs_background": "light"
     },
     "output_type": "display_data"
    },
    {
     "data": {
      "image/png": "[encoded data removed]",
      "text/plain": [
       "<Figure size 936x432 with 1 Axes>"
      ]
     },
     "metadata": {
      "needs_background": "light"
     },
     "output_type": "display_data"
    },
    {
     "data": {
      "image/png": "[encoded data removed]",
      "text/plain": [
       "<Figure size 936x432 with 1 Axes>"
      ]
     },
     "metadata": {
      "needs_background": "light"
     },
     "output_type": "display_data"
    },
    {
     "data": {
      "image/png": "[encoded data removed]",
      "text/plain": [
       "<Figure size 936x432 with 1 Axes>"
      ]
     },
     "metadata": {
      "needs_background": "light"
     },
     "output_type": "display_data"
    },
    {
     "data": {
      "image/png": "[encoded data removed]",
      "text/plain": [
       "<Figure size 936x432 with 1 Axes>"
      ]
     },
     "metadata": {
      "needs_background": "light"
     },
     "output_type": "display_data"
    }
   ],
   "source": [
    "for feature_name, gap in [\n",
    "    ('Pclass',1), \n",
    "    ('Fare',50),\n",
    "    ('Parch',1), \n",
    "    ('Age',5),\n",
    "    ('SibSp',1), \n",
    "]:\n",
    "    Grouped = PlotFeatureGroups( \n",
    "        df_train_numericized, feature_name, 'Survived', gap=gap, \n",
    "        figsize=(13,6), ylabel='Survived percentage' \n",
    "    )\n",
    "for feature_name, gap in [\n",
    "    ('Fare',1), \n",
    "    ('Age',1), \n",
    "]:\n",
    "    Grouped = PlotFeatureGroups( \n",
    "        df_train_numericized, feature_name, 'Survived', gap=gap, \n",
    "        plot=lambda x,y: plt.scatter(x,y), show_figures=False, \n",
    "        figsize=(13,6), ylabel='Survived percentage' \n",
    "    )"
   ]
  },
  {
   "cell_type": "markdown",
   "id": "3ba0a08c",
   "metadata": {},
   "source": [
    "## Feature engineering"
   ]
  },
  {
   "cell_type": "code",
   "execution_count": 316,
   "id": "4f8aec39",
   "metadata": {},
   "outputs": [
    {
     "data": {
      "image/png": "[encoded data removed]",
      "text/plain": [
       "<Figure size 720x432 with 1 Axes>"
      ]
     },
     "metadata": {
      "needs_background": "light"
     },
     "output_type": "display_data"
    },
    {
     "name": "stderr",
     "output_type": "stream",
     "text": [
      "C:\\Users\\admin\\Desktop\\Canadian application\\Jobs\\Tensorflow\\Titanic - Machine Learning from Disaster\\utils\\data_cleansing.py:5: FutureWarning: Dropping of nuisance columns in DataFrame reductions (with 'numeric_only=None') is deprecated; in a future version this will raise TypeError.  Select only valid columns before calling the reduction.\n",
      "  df_clean = df.fillna(df.median())\n",
      "C:\\Users\\admin\\Desktop\\Canadian application\\Jobs\\Tensorflow\\Titanic - Machine Learning from Disaster\\utils\\data_cleansing.py:5: FutureWarning: Dropping of nuisance columns in DataFrame reductions (with 'numeric_only=None') is deprecated; in a future version this will raise TypeError.  Select only valid columns before calling the reduction.\n",
      "  df_clean = df.fillna(df.median())\n"
     ]
    }
   ],
   "source": [
    "# -- Replace NaN\n",
    "PlotNaNs( df_train )\n",
    "df_train_numericized = ReplaceNaNs(df_train_numericized)\n",
    "df_test_numericized = ReplaceNaNs(df_test_numericized)"
   ]
  },
  {
   "cell_type": "code",
   "execution_count": 317,
   "id": "d507fdaf",
   "metadata": {},
   "outputs": [
    {
     "data": {
      "text/html": [
       "<div>\n",
       "<style scoped>\n",
       "    .dataframe tbody tr th:only-of-type {\n",
       "        vertical-align: middle;\n",
       "    }\n",
       "\n",
       "    .dataframe tbody tr th {\n",
       "        vertical-align: top;\n",
       "    }\n",
       "\n",
       "    .dataframe thead th {\n",
       "        text-align: right;\n",
       "    }\n",
       "</style>\n",
       "<table border=\"1\" class=\"dataframe\">\n",
       "  <thead>\n",
       "    <tr style=\"text-align: right;\">\n",
       "      <th></th>\n",
       "      <th>PassengerId</th>\n",
       "      <th>Survived</th>\n",
       "      <th>Pclass</th>\n",
       "      <th>Sex</th>\n",
       "      <th>Age</th>\n",
       "      <th>SibSp</th>\n",
       "      <th>Parch</th>\n",
       "      <th>Ticket</th>\n",
       "      <th>Fare</th>\n",
       "      <th>Cabin</th>\n",
       "      <th>Embarked</th>\n",
       "      <th>Count</th>\n",
       "      <th>Surname</th>\n",
       "    </tr>\n",
       "  </thead>\n",
       "  <tbody>\n",
       "    <tr>\n",
       "      <th>0</th>\n",
       "      <td>1</td>\n",
       "      <td>0</td>\n",
       "      <td>3</td>\n",
       "      <td>False</td>\n",
       "      <td>22.0</td>\n",
       "      <td>1</td>\n",
       "      <td>0</td>\n",
       "      <td>A/5 21171</td>\n",
       "      <td>7.2500</td>\n",
       "      <td>NaN</td>\n",
       "      <td>0.336957</td>\n",
       "      <td>True</td>\n",
       "      <td>Braund</td>\n",
       "    </tr>\n",
       "    <tr>\n",
       "      <th>1</th>\n",
       "      <td>2</td>\n",
       "      <td>1</td>\n",
       "      <td>1</td>\n",
       "      <td>True</td>\n",
       "      <td>38.0</td>\n",
       "      <td>1</td>\n",
       "      <td>0</td>\n",
       "      <td>PC 17599</td>\n",
       "      <td>71.2833</td>\n",
       "      <td>C85</td>\n",
       "      <td>0.553571</td>\n",
       "      <td>True</td>\n",
       "      <td>Cumings</td>\n",
       "    </tr>\n",
       "    <tr>\n",
       "      <th>2</th>\n",
       "      <td>3</td>\n",
       "      <td>1</td>\n",
       "      <td>3</td>\n",
       "      <td>True</td>\n",
       "      <td>26.0</td>\n",
       "      <td>0</td>\n",
       "      <td>0</td>\n",
       "      <td>STON/O2. 3101282</td>\n",
       "      <td>7.9250</td>\n",
       "      <td>NaN</td>\n",
       "      <td>0.336957</td>\n",
       "      <td>True</td>\n",
       "      <td>Heikkinen</td>\n",
       "    </tr>\n",
       "  </tbody>\n",
       "</table>\n",
       "</div>"
      ],
      "text/plain": [
       "   PassengerId  Survived  Pclass    Sex   Age  SibSp  Parch            Ticket  \\\n",
       "0            1         0       3  False  22.0      1      0         A/5 21171   \n",
       "1            2         1       1   True  38.0      1      0          PC 17599   \n",
       "2            3         1       3   True  26.0      0      0  STON/O2. 3101282   \n",
       "\n",
       "      Fare Cabin  Embarked  Count    Surname  \n",
       "0   7.2500   NaN  0.336957   True     Braund  \n",
       "1  71.2833   C85  0.553571   True    Cumings  \n",
       "2   7.9250   NaN  0.336957   True  Heikkinen  "
      ]
     },
     "execution_count": 317,
     "metadata": {},
     "output_type": "execute_result"
    }
   ],
   "source": [
    "# -- Drop first names\n",
    "def DropFirstName(df_train_numericized):\n",
    "    df_train_surnameOnly = df_train_numericized.copy(deep=True)\n",
    "    Names = df_train_numericized['Name'].str.split(',', expand=True)\n",
    "    df_train_surnameOnly['Surname'] = Names[0]\n",
    "    df_train_surnameOnly = df_train_surnameOnly.drop('Name', axis=1)\n",
    "    return df_train_surnameOnly\n",
    "df_train_surnameOnly = DropFirstName(df_train_numericized)\n",
    "df_test_surnameOnly = DropFirstName(df_test_numericized)\n",
    "df_train_surnameOnly.head(3)"
   ]
  },
  {
   "cell_type": "code",
   "execution_count": 318,
   "id": "c768c74e",
   "metadata": {},
   "outputs": [
    {
     "data": {
      "text/html": [
       "<div>\n",
       "<style scoped>\n",
       "    .dataframe tbody tr th:only-of-type {\n",
       "        vertical-align: middle;\n",
       "    }\n",
       "\n",
       "    .dataframe tbody tr th {\n",
       "        vertical-align: top;\n",
       "    }\n",
       "\n",
       "    .dataframe thead th {\n",
       "        text-align: right;\n",
       "    }\n",
       "</style>\n",
       "<table border=\"1\" class=\"dataframe\">\n",
       "  <thead>\n",
       "    <tr style=\"text-align: right;\">\n",
       "      <th></th>\n",
       "      <th>Pclass</th>\n",
       "      <th>Sex</th>\n",
       "      <th>Age</th>\n",
       "      <th>SibSp</th>\n",
       "      <th>Parch</th>\n",
       "      <th>Ticket</th>\n",
       "      <th>Fare</th>\n",
       "      <th>Cabin</th>\n",
       "      <th>Embarked</th>\n",
       "      <th>Surname</th>\n",
       "    </tr>\n",
       "  </thead>\n",
       "  <tbody>\n",
       "    <tr>\n",
       "      <th>0</th>\n",
       "      <td>3</td>\n",
       "      <td>False</td>\n",
       "      <td>22.0</td>\n",
       "      <td>1</td>\n",
       "      <td>0</td>\n",
       "      <td>A/5 21171</td>\n",
       "      <td>7.2500</td>\n",
       "      <td>NaN</td>\n",
       "      <td>0.336957</td>\n",
       "      <td>Braund</td>\n",
       "    </tr>\n",
       "    <tr>\n",
       "      <th>1</th>\n",
       "      <td>1</td>\n",
       "      <td>True</td>\n",
       "      <td>38.0</td>\n",
       "      <td>1</td>\n",
       "      <td>0</td>\n",
       "      <td>PC 17599</td>\n",
       "      <td>71.2833</td>\n",
       "      <td>C85</td>\n",
       "      <td>0.553571</td>\n",
       "      <td>Cumings</td>\n",
       "    </tr>\n",
       "    <tr>\n",
       "      <th>2</th>\n",
       "      <td>3</td>\n",
       "      <td>True</td>\n",
       "      <td>26.0</td>\n",
       "      <td>0</td>\n",
       "      <td>0</td>\n",
       "      <td>STON/O2. 3101282</td>\n",
       "      <td>7.9250</td>\n",
       "      <td>NaN</td>\n",
       "      <td>0.336957</td>\n",
       "      <td>Heikkinen</td>\n",
       "    </tr>\n",
       "    <tr>\n",
       "      <th>3</th>\n",
       "      <td>1</td>\n",
       "      <td>True</td>\n",
       "      <td>35.0</td>\n",
       "      <td>1</td>\n",
       "      <td>0</td>\n",
       "      <td>113803</td>\n",
       "      <td>53.1000</td>\n",
       "      <td>C123</td>\n",
       "      <td>0.336957</td>\n",
       "      <td>Futrelle</td>\n",
       "    </tr>\n",
       "    <tr>\n",
       "      <th>4</th>\n",
       "      <td>3</td>\n",
       "      <td>False</td>\n",
       "      <td>35.0</td>\n",
       "      <td>0</td>\n",
       "      <td>0</td>\n",
       "      <td>373450</td>\n",
       "      <td>8.0500</td>\n",
       "      <td>NaN</td>\n",
       "      <td>0.336957</td>\n",
       "      <td>Allen</td>\n",
       "    </tr>\n",
       "    <tr>\n",
       "      <th>...</th>\n",
       "      <td>...</td>\n",
       "      <td>...</td>\n",
       "      <td>...</td>\n",
       "      <td>...</td>\n",
       "      <td>...</td>\n",
       "      <td>...</td>\n",
       "      <td>...</td>\n",
       "      <td>...</td>\n",
       "      <td>...</td>\n",
       "      <td>...</td>\n",
       "    </tr>\n",
       "    <tr>\n",
       "      <th>886</th>\n",
       "      <td>2</td>\n",
       "      <td>False</td>\n",
       "      <td>27.0</td>\n",
       "      <td>0</td>\n",
       "      <td>0</td>\n",
       "      <td>211536</td>\n",
       "      <td>13.0000</td>\n",
       "      <td>NaN</td>\n",
       "      <td>0.336957</td>\n",
       "      <td>Montvila</td>\n",
       "    </tr>\n",
       "    <tr>\n",
       "      <th>887</th>\n",
       "      <td>1</td>\n",
       "      <td>True</td>\n",
       "      <td>19.0</td>\n",
       "      <td>0</td>\n",
       "      <td>0</td>\n",
       "      <td>112053</td>\n",
       "      <td>30.0000</td>\n",
       "      <td>B42</td>\n",
       "      <td>0.336957</td>\n",
       "      <td>Graham</td>\n",
       "    </tr>\n",
       "    <tr>\n",
       "      <th>888</th>\n",
       "      <td>3</td>\n",
       "      <td>True</td>\n",
       "      <td>28.0</td>\n",
       "      <td>1</td>\n",
       "      <td>2</td>\n",
       "      <td>W./C. 6607</td>\n",
       "      <td>23.4500</td>\n",
       "      <td>NaN</td>\n",
       "      <td>0.336957</td>\n",
       "      <td>Johnston</td>\n",
       "    </tr>\n",
       "    <tr>\n",
       "      <th>889</th>\n",
       "      <td>1</td>\n",
       "      <td>False</td>\n",
       "      <td>26.0</td>\n",
       "      <td>0</td>\n",
       "      <td>0</td>\n",
       "      <td>111369</td>\n",
       "      <td>30.0000</td>\n",
       "      <td>C148</td>\n",
       "      <td>0.553571</td>\n",
       "      <td>Behr</td>\n",
       "    </tr>\n",
       "    <tr>\n",
       "      <th>890</th>\n",
       "      <td>3</td>\n",
       "      <td>False</td>\n",
       "      <td>32.0</td>\n",
       "      <td>0</td>\n",
       "      <td>0</td>\n",
       "      <td>370376</td>\n",
       "      <td>7.7500</td>\n",
       "      <td>NaN</td>\n",
       "      <td>0.389610</td>\n",
       "      <td>Dooley</td>\n",
       "    </tr>\n",
       "  </tbody>\n",
       "</table>\n",
       "<p>891 rows × 10 columns</p>\n",
       "</div>"
      ],
      "text/plain": [
       "     Pclass    Sex   Age  SibSp  Parch            Ticket     Fare Cabin  \\\n",
       "0         3  False  22.0      1      0         A/5 21171   7.2500   NaN   \n",
       "1         1   True  38.0      1      0          PC 17599  71.2833   C85   \n",
       "2         3   True  26.0      0      0  STON/O2. 3101282   7.9250   NaN   \n",
       "3         1   True  35.0      1      0            113803  53.1000  C123   \n",
       "4         3  False  35.0      0      0            373450   8.0500   NaN   \n",
       "..      ...    ...   ...    ...    ...               ...      ...   ...   \n",
       "886       2  False  27.0      0      0            211536  13.0000   NaN   \n",
       "887       1   True  19.0      0      0            112053  30.0000   B42   \n",
       "888       3   True  28.0      1      2        W./C. 6607  23.4500   NaN   \n",
       "889       1  False  26.0      0      0            111369  30.0000  C148   \n",
       "890       3  False  32.0      0      0            370376   7.7500   NaN   \n",
       "\n",
       "     Embarked    Surname  \n",
       "0    0.336957     Braund  \n",
       "1    0.553571    Cumings  \n",
       "2    0.336957  Heikkinen  \n",
       "3    0.336957   Futrelle  \n",
       "4    0.336957      Allen  \n",
       "..        ...        ...  \n",
       "886  0.336957   Montvila  \n",
       "887  0.336957     Graham  \n",
       "888  0.336957   Johnston  \n",
       "889  0.553571       Behr  \n",
       "890  0.389610     Dooley  \n",
       "\n",
       "[891 rows x 10 columns]"
      ]
     },
     "execution_count": 318,
     "metadata": {},
     "output_type": "execute_result"
    }
   ],
   "source": [
    "# -- Separate independent variables and dependent variables\n",
    "X_train_clean = df_train_surnameOnly.drop(['PassengerId', 'Survived', 'Count'], axis=1)\n",
    "y_train_clean = df_train_surnameOnly['Survived']\n",
    "X_test_clean = df_test_surnameOnly.drop(['PassengerId', 'Count'], axis=1)\n",
    "assert all(X_train_clean.columns == X_test_clean.columns)\n",
    "X_train_clean"
   ]
  },
  {
   "cell_type": "code",
   "execution_count": 319,
   "id": "dadc699c",
   "metadata": {},
   "outputs": [
    {
     "data": {
      "text/html": [
       "<div>\n",
       "<style scoped>\n",
       "    .dataframe tbody tr th:only-of-type {\n",
       "        vertical-align: middle;\n",
       "    }\n",
       "\n",
       "    .dataframe tbody tr th {\n",
       "        vertical-align: top;\n",
       "    }\n",
       "\n",
       "    .dataframe thead th {\n",
       "        text-align: right;\n",
       "    }\n",
       "</style>\n",
       "<table border=\"1\" class=\"dataframe\">\n",
       "  <thead>\n",
       "    <tr style=\"text-align: right;\">\n",
       "      <th></th>\n",
       "      <th>Pclass</th>\n",
       "      <th>Sex</th>\n",
       "      <th>Age</th>\n",
       "      <th>SibSp</th>\n",
       "      <th>Parch</th>\n",
       "      <th>Ticket</th>\n",
       "      <th>Fare</th>\n",
       "      <th>Cabin</th>\n",
       "      <th>Embarked</th>\n",
       "      <th>Surname</th>\n",
       "    </tr>\n",
       "  </thead>\n",
       "  <tbody>\n",
       "    <tr>\n",
       "      <th>331</th>\n",
       "      <td>1</td>\n",
       "      <td>False</td>\n",
       "      <td>45.5</td>\n",
       "      <td>0</td>\n",
       "      <td>0</td>\n",
       "      <td>113043</td>\n",
       "      <td>28.5000</td>\n",
       "      <td>C124</td>\n",
       "      <td>0.336957</td>\n",
       "      <td>Partner</td>\n",
       "    </tr>\n",
       "    <tr>\n",
       "      <th>733</th>\n",
       "      <td>2</td>\n",
       "      <td>False</td>\n",
       "      <td>23.0</td>\n",
       "      <td>0</td>\n",
       "      <td>0</td>\n",
       "      <td>28425</td>\n",
       "      <td>13.0000</td>\n",
       "      <td>NaN</td>\n",
       "      <td>0.336957</td>\n",
       "      <td>Berriman</td>\n",
       "    </tr>\n",
       "    <tr>\n",
       "      <th>382</th>\n",
       "      <td>3</td>\n",
       "      <td>False</td>\n",
       "      <td>32.0</td>\n",
       "      <td>0</td>\n",
       "      <td>0</td>\n",
       "      <td>STON/O 2. 3101293</td>\n",
       "      <td>7.9250</td>\n",
       "      <td>NaN</td>\n",
       "      <td>0.336957</td>\n",
       "      <td>Tikkanen</td>\n",
       "    </tr>\n",
       "    <tr>\n",
       "      <th>704</th>\n",
       "      <td>3</td>\n",
       "      <td>False</td>\n",
       "      <td>26.0</td>\n",
       "      <td>1</td>\n",
       "      <td>0</td>\n",
       "      <td>350025</td>\n",
       "      <td>7.8542</td>\n",
       "      <td>NaN</td>\n",
       "      <td>0.336957</td>\n",
       "      <td>Hansen</td>\n",
       "    </tr>\n",
       "    <tr>\n",
       "      <th>813</th>\n",
       "      <td>3</td>\n",
       "      <td>True</td>\n",
       "      <td>6.0</td>\n",
       "      <td>4</td>\n",
       "      <td>2</td>\n",
       "      <td>347082</td>\n",
       "      <td>31.2750</td>\n",
       "      <td>NaN</td>\n",
       "      <td>0.336957</td>\n",
       "      <td>Andersson</td>\n",
       "    </tr>\n",
       "    <tr>\n",
       "      <th>...</th>\n",
       "      <td>...</td>\n",
       "      <td>...</td>\n",
       "      <td>...</td>\n",
       "      <td>...</td>\n",
       "      <td>...</td>\n",
       "      <td>...</td>\n",
       "      <td>...</td>\n",
       "      <td>...</td>\n",
       "      <td>...</td>\n",
       "      <td>...</td>\n",
       "    </tr>\n",
       "    <tr>\n",
       "      <th>106</th>\n",
       "      <td>3</td>\n",
       "      <td>True</td>\n",
       "      <td>21.0</td>\n",
       "      <td>0</td>\n",
       "      <td>0</td>\n",
       "      <td>343120</td>\n",
       "      <td>7.6500</td>\n",
       "      <td>NaN</td>\n",
       "      <td>0.336957</td>\n",
       "      <td>Salkjelsvik</td>\n",
       "    </tr>\n",
       "    <tr>\n",
       "      <th>270</th>\n",
       "      <td>1</td>\n",
       "      <td>False</td>\n",
       "      <td>28.0</td>\n",
       "      <td>0</td>\n",
       "      <td>0</td>\n",
       "      <td>113798</td>\n",
       "      <td>31.0000</td>\n",
       "      <td>NaN</td>\n",
       "      <td>0.336957</td>\n",
       "      <td>Cairns</td>\n",
       "    </tr>\n",
       "    <tr>\n",
       "      <th>860</th>\n",
       "      <td>3</td>\n",
       "      <td>False</td>\n",
       "      <td>41.0</td>\n",
       "      <td>2</td>\n",
       "      <td>0</td>\n",
       "      <td>350026</td>\n",
       "      <td>14.1083</td>\n",
       "      <td>NaN</td>\n",
       "      <td>0.336957</td>\n",
       "      <td>Hansen</td>\n",
       "    </tr>\n",
       "    <tr>\n",
       "      <th>435</th>\n",
       "      <td>1</td>\n",
       "      <td>True</td>\n",
       "      <td>14.0</td>\n",
       "      <td>1</td>\n",
       "      <td>2</td>\n",
       "      <td>113760</td>\n",
       "      <td>120.0000</td>\n",
       "      <td>B96 B98</td>\n",
       "      <td>0.336957</td>\n",
       "      <td>Carter</td>\n",
       "    </tr>\n",
       "    <tr>\n",
       "      <th>102</th>\n",
       "      <td>1</td>\n",
       "      <td>False</td>\n",
       "      <td>21.0</td>\n",
       "      <td>0</td>\n",
       "      <td>1</td>\n",
       "      <td>35281</td>\n",
       "      <td>77.2875</td>\n",
       "      <td>D26</td>\n",
       "      <td>0.336957</td>\n",
       "      <td>White</td>\n",
       "    </tr>\n",
       "  </tbody>\n",
       "</table>\n",
       "<p>712 rows × 10 columns</p>\n",
       "</div>"
      ],
      "text/plain": [
       "     Pclass    Sex   Age  SibSp  Parch             Ticket      Fare    Cabin  \\\n",
       "331       1  False  45.5      0      0             113043   28.5000     C124   \n",
       "733       2  False  23.0      0      0              28425   13.0000      NaN   \n",
       "382       3  False  32.0      0      0  STON/O 2. 3101293    7.9250      NaN   \n",
       "704       3  False  26.0      1      0             350025    7.8542      NaN   \n",
       "813       3   True   6.0      4      2             347082   31.2750      NaN   \n",
       "..      ...    ...   ...    ...    ...                ...       ...      ...   \n",
       "106       3   True  21.0      0      0             343120    7.6500      NaN   \n",
       "270       1  False  28.0      0      0             113798   31.0000      NaN   \n",
       "860       3  False  41.0      2      0             350026   14.1083      NaN   \n",
       "435       1   True  14.0      1      2             113760  120.0000  B96 B98   \n",
       "102       1  False  21.0      0      1              35281   77.2875      D26   \n",
       "\n",
       "     Embarked      Surname  \n",
       "331  0.336957      Partner  \n",
       "733  0.336957     Berriman  \n",
       "382  0.336957     Tikkanen  \n",
       "704  0.336957       Hansen  \n",
       "813  0.336957    Andersson  \n",
       "..        ...          ...  \n",
       "106  0.336957  Salkjelsvik  \n",
       "270  0.336957       Cairns  \n",
       "860  0.336957       Hansen  \n",
       "435  0.336957       Carter  \n",
       "102  0.336957        White  \n",
       "\n",
       "[712 rows x 10 columns]"
      ]
     },
     "execution_count": 319,
     "metadata": {},
     "output_type": "execute_result"
    }
   ],
   "source": [
    "# -- Split train validation data\n",
    "from sklearn.model_selection import train_test_split\n",
    "X_train, X_valid, y_train, y_valid = train_test_split(\n",
    "    X_train_clean, y_train_clean, \n",
    "    test_size=0.2, \n",
    "    random_state=RANDOM_STATE\n",
    ")\n",
    "assert X_train.shape[1] == X_valid.shape[1]\n",
    "X_train"
   ]
  },
  {
   "cell_type": "code",
   "execution_count": 321,
   "id": "20e4bdeb",
   "metadata": {},
   "outputs": [
    {
     "name": "stdout",
     "output_type": "stream",
     "text": [
      "features_numeric = Index(['Pclass', 'Sex', 'Age', 'SibSp', 'Parch', 'Fare', 'Embarked'], dtype='object')\n",
      "features_non_numeric = Index(['Ticket', 'Cabin', 'Surname'], dtype='object')\n"
     ]
    },
    {
     "data": {
      "text/plain": [
       "array([[0.        , 0.        , 0.56647399, ..., 0.        , 0.        ,\n",
       "        0.        ],\n",
       "       [0.5       , 0.        , 0.28373963, ..., 0.        , 0.        ,\n",
       "        0.        ],\n",
       "       [1.        , 0.        , 0.39683338, ..., 0.        , 0.        ,\n",
       "        0.        ],\n",
       "       ...,\n",
       "       [1.        , 0.        , 0.50992712, ..., 0.        , 0.        ,\n",
       "        0.        ],\n",
       "       [0.        , 1.        , 0.17064589, ..., 0.        , 0.        ,\n",
       "        0.        ],\n",
       "       [0.        , 0.        , 0.25860769, ..., 0.        , 0.        ,\n",
       "        0.        ]])"
      ]
     },
     "execution_count": 321,
     "metadata": {},
     "output_type": "execute_result"
    }
   ],
   "source": [
    "# -- Normalization and one hot\n",
    "from sklearn.compose import make_column_transformer\n",
    "from sklearn.preprocessing import MinMaxScaler, OneHotEncoder\n",
    "def NormalizeAndOneHot(Xs):\n",
    "    # -- Separate numeric and non-numeric features\n",
    "    features_numeric, features_non_numeric = \\\n",
    "        SeparateNumericAndNonNumericFeatures(\n",
    "            Xs[0],\n",
    "        )\n",
    "    print(f'{features_numeric = }')\n",
    "    print(f'{features_non_numeric = }')\n",
    "    \n",
    "    # -- \n",
    "    ct = make_column_transformer(\n",
    "        ( # turn all values in these columns between 0 and 1\n",
    "            MinMaxScaler(), \n",
    "            features_numeric[:-1]\n",
    "        ),\n",
    "        (\n",
    "            OneHotEncoder(handle_unknown=\"ignore\", sparse=False), \n",
    "            features_non_numeric\n",
    "        )\n",
    "    )\n",
    "    ct.fit(Xs[0])\n",
    "    \n",
    "    Xs_normal = []\n",
    "    for i in range(len(Xs)):\n",
    "        Xs_normal.append(\n",
    "            ct.transform(Xs[i])\n",
    "        )\n",
    "    return Xs_normal\n",
    "X_train_normalized, X_valid_normalized, X_test_normalized = \\\n",
    "    NormalizeAndOneHot(\n",
    "        [\n",
    "            X_train,\n",
    "            X_valid,\n",
    "            X_test_clean\n",
    "        ]\n",
    "    )\n",
    "assert X_train_normalized.shape[1] == \\\n",
    "        X_valid_normalized.shape[1] == \\\n",
    "        X_test_normalized.shape[1]\n",
    "X_train_normalized"
   ]
  },
  {
   "cell_type": "markdown",
   "id": "735e423d",
   "metadata": {},
   "source": [
    "## Run Models"
   ]
  },
  {
   "cell_type": "markdown",
   "id": "65ce67a9",
   "metadata": {},
   "source": [
    "### LogisticRegression"
   ]
  },
  {
   "cell_type": "code",
   "execution_count": 414,
   "id": "89790a93",
   "metadata": {},
   "outputs": [
    {
     "data": {
      "text/plain": [
       "0.17318435754189945"
      ]
     },
     "execution_count": 414,
     "metadata": {},
     "output_type": "execute_result"
    }
   ],
   "source": [
    "# Run our model without tweecking the hyperparameters\n",
    "from sklearn.linear_model import LogisticRegression\n",
    "logreg = LogisticRegression()# Fit our model to the training data\n",
    "logreg.fit(X_train_normalized, y_train)# Predict on the test data\n",
    "# logreg_predictions = logreg.predict(X_test_normalized)\n",
    "logreg_predictions = logreg.predict(X_valid_normalized)\n",
    "logreg_predictions\n",
    "# logreg_data = pd.read_csv('test.csv')\n",
    "# logreg_data.insert((logreg_data.shape[1]),'Survived',logreg_predictions)\n",
    "# logreg_data.to_csv('LogisticRegression_SS_OH_FE2.csv')\n",
    "# -- Mean Absolute Error\n",
    "abs(y_valid.to_numpy()-logreg_predictions).sum() / len(logreg_predictions)"
   ]
  },
  {
   "cell_type": "code",
   "execution_count": 416,
   "id": "0cfa716e",
   "metadata": {},
   "outputs": [
    {
     "data": {
      "text/html": [
       "<div>\n",
       "<style scoped>\n",
       "    .dataframe tbody tr th:only-of-type {\n",
       "        vertical-align: middle;\n",
       "    }\n",
       "\n",
       "    .dataframe tbody tr th {\n",
       "        vertical-align: top;\n",
       "    }\n",
       "\n",
       "    .dataframe thead th {\n",
       "        text-align: right;\n",
       "    }\n",
       "</style>\n",
       "<table border=\"1\" class=\"dataframe\">\n",
       "  <thead>\n",
       "    <tr style=\"text-align: right;\">\n",
       "      <th></th>\n",
       "      <th>PassengerId</th>\n",
       "      <th>Pclass</th>\n",
       "      <th>Name</th>\n",
       "      <th>Sex</th>\n",
       "      <th>Age</th>\n",
       "      <th>SibSp</th>\n",
       "      <th>Parch</th>\n",
       "      <th>Ticket</th>\n",
       "      <th>Fare</th>\n",
       "      <th>Cabin</th>\n",
       "      <th>Embarked</th>\n",
       "    </tr>\n",
       "  </thead>\n",
       "  <tbody>\n",
       "    <tr>\n",
       "      <th>0</th>\n",
       "      <td>892</td>\n",
       "      <td>3</td>\n",
       "      <td>Kelly, Mr. James</td>\n",
       "      <td>male</td>\n",
       "      <td>34.5</td>\n",
       "      <td>0</td>\n",
       "      <td>0</td>\n",
       "      <td>330911</td>\n",
       "      <td>7.8292</td>\n",
       "      <td>NaN</td>\n",
       "      <td>Q</td>\n",
       "    </tr>\n",
       "    <tr>\n",
       "      <th>1</th>\n",
       "      <td>893</td>\n",
       "      <td>3</td>\n",
       "      <td>Wilkes, Mrs. James (Ellen Needs)</td>\n",
       "      <td>female</td>\n",
       "      <td>47.0</td>\n",
       "      <td>1</td>\n",
       "      <td>0</td>\n",
       "      <td>363272</td>\n",
       "      <td>7.0000</td>\n",
       "      <td>NaN</td>\n",
       "      <td>S</td>\n",
       "    </tr>\n",
       "    <tr>\n",
       "      <th>2</th>\n",
       "      <td>894</td>\n",
       "      <td>2</td>\n",
       "      <td>Myles, Mr. Thomas Francis</td>\n",
       "      <td>male</td>\n",
       "      <td>62.0</td>\n",
       "      <td>0</td>\n",
       "      <td>0</td>\n",
       "      <td>240276</td>\n",
       "      <td>9.6875</td>\n",
       "      <td>NaN</td>\n",
       "      <td>Q</td>\n",
       "    </tr>\n",
       "    <tr>\n",
       "      <th>3</th>\n",
       "      <td>895</td>\n",
       "      <td>3</td>\n",
       "      <td>Wirz, Mr. Albert</td>\n",
       "      <td>male</td>\n",
       "      <td>27.0</td>\n",
       "      <td>0</td>\n",
       "      <td>0</td>\n",
       "      <td>315154</td>\n",
       "      <td>8.6625</td>\n",
       "      <td>NaN</td>\n",
       "      <td>S</td>\n",
       "    </tr>\n",
       "    <tr>\n",
       "      <th>4</th>\n",
       "      <td>896</td>\n",
       "      <td>3</td>\n",
       "      <td>Hirvonen, Mrs. Alexander (Helga E Lindqvist)</td>\n",
       "      <td>female</td>\n",
       "      <td>22.0</td>\n",
       "      <td>1</td>\n",
       "      <td>1</td>\n",
       "      <td>3101298</td>\n",
       "      <td>12.2875</td>\n",
       "      <td>NaN</td>\n",
       "      <td>S</td>\n",
       "    </tr>\n",
       "    <tr>\n",
       "      <th>...</th>\n",
       "      <td>...</td>\n",
       "      <td>...</td>\n",
       "      <td>...</td>\n",
       "      <td>...</td>\n",
       "      <td>...</td>\n",
       "      <td>...</td>\n",
       "      <td>...</td>\n",
       "      <td>...</td>\n",
       "      <td>...</td>\n",
       "      <td>...</td>\n",
       "      <td>...</td>\n",
       "    </tr>\n",
       "    <tr>\n",
       "      <th>413</th>\n",
       "      <td>1305</td>\n",
       "      <td>3</td>\n",
       "      <td>Spector, Mr. Woolf</td>\n",
       "      <td>male</td>\n",
       "      <td>NaN</td>\n",
       "      <td>0</td>\n",
       "      <td>0</td>\n",
       "      <td>A.5. 3236</td>\n",
       "      <td>8.0500</td>\n",
       "      <td>NaN</td>\n",
       "      <td>S</td>\n",
       "    </tr>\n",
       "    <tr>\n",
       "      <th>414</th>\n",
       "      <td>1306</td>\n",
       "      <td>1</td>\n",
       "      <td>Oliva y Ocana, Dona. Fermina</td>\n",
       "      <td>female</td>\n",
       "      <td>39.0</td>\n",
       "      <td>0</td>\n",
       "      <td>0</td>\n",
       "      <td>PC 17758</td>\n",
       "      <td>108.9000</td>\n",
       "      <td>C105</td>\n",
       "      <td>C</td>\n",
       "    </tr>\n",
       "    <tr>\n",
       "      <th>415</th>\n",
       "      <td>1307</td>\n",
       "      <td>3</td>\n",
       "      <td>Saether, Mr. Simon Sivertsen</td>\n",
       "      <td>male</td>\n",
       "      <td>38.5</td>\n",
       "      <td>0</td>\n",
       "      <td>0</td>\n",
       "      <td>SOTON/O.Q. 3101262</td>\n",
       "      <td>7.2500</td>\n",
       "      <td>NaN</td>\n",
       "      <td>S</td>\n",
       "    </tr>\n",
       "    <tr>\n",
       "      <th>416</th>\n",
       "      <td>1308</td>\n",
       "      <td>3</td>\n",
       "      <td>Ware, Mr. Frederick</td>\n",
       "      <td>male</td>\n",
       "      <td>NaN</td>\n",
       "      <td>0</td>\n",
       "      <td>0</td>\n",
       "      <td>359309</td>\n",
       "      <td>8.0500</td>\n",
       "      <td>NaN</td>\n",
       "      <td>S</td>\n",
       "    </tr>\n",
       "    <tr>\n",
       "      <th>417</th>\n",
       "      <td>1309</td>\n",
       "      <td>3</td>\n",
       "      <td>Peter, Master. Michael J</td>\n",
       "      <td>male</td>\n",
       "      <td>NaN</td>\n",
       "      <td>1</td>\n",
       "      <td>1</td>\n",
       "      <td>2668</td>\n",
       "      <td>22.3583</td>\n",
       "      <td>NaN</td>\n",
       "      <td>C</td>\n",
       "    </tr>\n",
       "  </tbody>\n",
       "</table>\n",
       "<p>418 rows × 11 columns</p>\n",
       "</div>"
      ],
      "text/plain": [
       "     PassengerId  Pclass                                          Name  \\\n",
       "0            892       3                              Kelly, Mr. James   \n",
       "1            893       3              Wilkes, Mrs. James (Ellen Needs)   \n",
       "2            894       2                     Myles, Mr. Thomas Francis   \n",
       "3            895       3                              Wirz, Mr. Albert   \n",
       "4            896       3  Hirvonen, Mrs. Alexander (Helga E Lindqvist)   \n",
       "..           ...     ...                                           ...   \n",
       "413         1305       3                            Spector, Mr. Woolf   \n",
       "414         1306       1                  Oliva y Ocana, Dona. Fermina   \n",
       "415         1307       3                  Saether, Mr. Simon Sivertsen   \n",
       "416         1308       3                           Ware, Mr. Frederick   \n",
       "417         1309       3                      Peter, Master. Michael J   \n",
       "\n",
       "        Sex   Age  SibSp  Parch              Ticket      Fare Cabin Embarked  \n",
       "0      male  34.5      0      0              330911    7.8292   NaN        Q  \n",
       "1    female  47.0      1      0              363272    7.0000   NaN        S  \n",
       "2      male  62.0      0      0              240276    9.6875   NaN        Q  \n",
       "3      male  27.0      0      0              315154    8.6625   NaN        S  \n",
       "4    female  22.0      1      1             3101298   12.2875   NaN        S  \n",
       "..      ...   ...    ...    ...                 ...       ...   ...      ...  \n",
       "413    male   NaN      0      0           A.5. 3236    8.0500   NaN        S  \n",
       "414  female  39.0      0      0            PC 17758  108.9000  C105        C  \n",
       "415    male  38.5      0      0  SOTON/O.Q. 3101262    7.2500   NaN        S  \n",
       "416    male   NaN      0      0              359309    8.0500   NaN        S  \n",
       "417    male   NaN      1      1                2668   22.3583   NaN        C  \n",
       "\n",
       "[418 rows x 11 columns]"
      ]
     },
     "execution_count": 416,
     "metadata": {},
     "output_type": "execute_result"
    }
   ],
   "source": [
    "df_test_raw"
   ]
  },
  {
   "cell_type": "code",
   "execution_count": 419,
   "id": "eb02946c",
   "metadata": {},
   "outputs": [
    {
     "data": {
      "text/plain": [
       "179"
      ]
     },
     "execution_count": 419,
     "metadata": {},
     "output_type": "execute_result"
    }
   ],
   "source": [
    "len(logreg_predictions)"
   ]
  },
  {
   "cell_type": "code",
   "execution_count": 420,
   "id": "53a6e9cc",
   "metadata": {},
   "outputs": [],
   "source": [
    "# # Run our model without tweecking the hyperparameters\n",
    "# from sklearn.linear_model import LogisticRegression\n",
    "# logreg = LogisticRegression()# Fit our model to the training data\n",
    "# logreg.fit(X_train_normalized, y_train)# Predict on the test data\n",
    "# # logreg_predictions = logreg.predict(X_test_normalized)\n",
    "# logreg_predictions = logreg.predict(X_test_normalized)\n",
    "# logreg_predictions\n",
    "# logreg_data = pd.read_csv('test.csv')\n",
    "# logreg_data.insert((logreg_data.shape[1]),'Survived',logreg_predictions)\n",
    "# logreg_data.to_csv('LogisticRegression_SS_OH_FE2.csv')\n",
    "# -- Mean Absolute Error\n",
    "\n",
    "logreg_test_prediction_noparatweak = pd.DataFrame(\n",
    "    {\n",
    "        'PassengerId': df_test_raw['PassengerId'].to_numpy(), \n",
    "        'Survived': logreg.predict(X_test_normalized)\n",
    "    }\n",
    ")\n",
    "logreg_test_prediction_noparatweak.to_csv('submission2(Logistic Regression, no hyperparameter tweaking).csv', index=False)"
   ]
  },
  {
   "cell_type": "code",
   "execution_count": 374,
   "id": "b5d94f7f",
   "metadata": {},
   "outputs": [
    {
     "name": "stdout",
     "output_type": "stream",
     "text": [
      "cpus =  16\n",
      "Fitting 5 folds for each of 5760 candidates, totalling 28800 fits\n",
      "0.8258642765685018\n",
      "{'C': 10, 'class_weight': 'balanced', 'dual': True, 'fit_intercept': True, 'intercept_scaling': 10, 'l1_ratio': None, 'max_iter': 100, 'multi_class': 'auto', 'n_jobs': None, 'penalty': 'l2', 'random_state': None, 'solver': 'liblinear', 'tol': 0.0001, 'verbose': 0, 'warm_start': False}\n"
     ]
    },
    {
     "name": "stderr",
     "output_type": "stream",
     "text": [
      "C:\\Anaconda3\\lib\\site-packages\\sklearn\\model_selection\\_search.py:922: UserWarning: One or more of the test scores are non-finite: [       nan        nan        nan ... 0.82303753 0.82303753 0.82023047]\n",
      "  warnings.warn(\n",
      "C:\\Anaconda3\\lib\\site-packages\\sklearn\\svm\\_base.py:985: ConvergenceWarning: Liblinear failed to converge, increase the number of iterations.\n",
      "  warnings.warn(\"Liblinear failed to converge, increase \"\n"
     ]
    }
   ],
   "source": [
    "# -- Grid Search\n",
    "from sklearn import model_selection\n",
    "import multiprocessing\n",
    "cpus = multiprocessing.cpu_count()\n",
    "print('cpus = ',cpus)\n",
    "\n",
    "logreg = LogisticRegression()\n",
    "param_grid = {\n",
    "    'penalty': ['l1', 'l2', 'elasticnet', 'none'],\n",
    "    'dual': [True, False], \n",
    "    'tol': [1e-5, 1e-4, 1e-3],\n",
    "    'C': [0.1, 1, 10, 100],\n",
    "    'fit_intercept': [True, False],\n",
    "    'intercept_scaling': [.1, 1, 10],\n",
    "    'class_weight': [dict, 'balanced'],\n",
    "    'solver': ['newton-cg', 'lbfgs', 'liblinear', 'sag', 'saga'],\n",
    "}\n",
    "\n",
    "model = model_selection.GridSearchCV(\n",
    "    estimator=logreg,\n",
    "    param_grid=param_grid,\n",
    "    scoring='accuracy',\n",
    "    verbose=1,\n",
    "    n_jobs=cpus-1,\n",
    "    cv=5\n",
    ")\n",
    "model.fit(X_train_normalized, y_train)\n",
    "print(model.best_score_)\n",
    "print(model.best_estimator_.get_params())"
   ]
  },
  {
   "cell_type": "code",
   "execution_count": 375,
   "id": "d1fd997a",
   "metadata": {},
   "outputs": [
    {
     "name": "stdout",
     "output_type": "stream",
     "text": [
      "cpus =  16\n",
      "Fitting 5 folds for each of 75 candidates, totalling 375 fits\n",
      "0.8258544272628778\n",
      "{'C': 10, 'class_weight': 'balanced', 'dual': True, 'fit_intercept': True, 'intercept_scaling': 10, 'l1_ratio': None, 'max_iter': 100, 'multi_class': 'auto', 'n_jobs': None, 'penalty': 'l2', 'random_state': None, 'solver': 'liblinear', 'tol': 0.0001, 'verbose': 0, 'warm_start': False}\n"
     ]
    },
    {
     "name": "stderr",
     "output_type": "stream",
     "text": [
      "C:\\Anaconda3\\lib\\site-packages\\sklearn\\svm\\_base.py:985: ConvergenceWarning: Liblinear failed to converge, increase the number of iterations.\n",
      "  warnings.warn(\"Liblinear failed to converge, increase \"\n"
     ]
    }
   ],
   "source": [
    "# -- Grid Search\n",
    "from sklearn import model_selection\n",
    "import multiprocessing\n",
    "cpus = multiprocessing.cpu_count()\n",
    "print('cpus = ',cpus)\n",
    "\n",
    "logreg = LogisticRegression()\n",
    "param_grid = {\n",
    "    'penalty': ['l2'],\n",
    "    'dual': [True], \n",
    "    'tol': [1e-5, 1e-4, 1e-3],\n",
    "    'C': [2, 5, 10, 50, 90],\n",
    "    'fit_intercept': [True],\n",
    "    'intercept_scaling': [2, 5, 10, 50, 90],\n",
    "    'class_weight': ['balanced'],\n",
    "    'solver': ['liblinear'],\n",
    "}\n",
    "\n",
    "model = model_selection.GridSearchCV(\n",
    "    estimator=logreg,\n",
    "    param_grid=param_grid,\n",
    "    scoring='accuracy',\n",
    "    verbose=1,\n",
    "    n_jobs=cpus-1,\n",
    "    cv=5\n",
    ")\n",
    "model.fit(X_train_normalized, y_train)\n",
    "print(model.best_score_)\n",
    "print(model.best_estimator_.get_params())"
   ]
  },
  {
   "cell_type": "code",
   "execution_count": 376,
   "id": "a63814bf",
   "metadata": {},
   "outputs": [
    {
     "name": "stdout",
     "output_type": "stream",
     "text": [
      "cpus =  16\n",
      "Fitting 5 folds for each of 108 candidates, totalling 540 fits\n",
      "0.8314882300797795\n",
      "{'C': 40, 'class_weight': 'balanced', 'dual': True, 'fit_intercept': True, 'intercept_scaling': 9, 'l1_ratio': None, 'max_iter': 100, 'multi_class': 'auto', 'n_jobs': None, 'penalty': 'l2', 'random_state': None, 'solver': 'liblinear', 'tol': 0.0005, 'verbose': 0, 'warm_start': False}\n"
     ]
    },
    {
     "name": "stderr",
     "output_type": "stream",
     "text": [
      "C:\\Anaconda3\\lib\\site-packages\\sklearn\\svm\\_base.py:985: ConvergenceWarning: Liblinear failed to converge, increase the number of iterations.\n",
      "  warnings.warn(\"Liblinear failed to converge, increase \"\n"
     ]
    }
   ],
   "source": [
    "# -- Grid Search\n",
    "from sklearn import model_selection\n",
    "import multiprocessing\n",
    "cpus = multiprocessing.cpu_count()\n",
    "print('cpus = ',cpus)\n",
    "\n",
    "logreg = LogisticRegression()\n",
    "param_grid = {\n",
    "    'penalty': ['l2'],\n",
    "    'dual': [True], \n",
    "    'tol': [5e-5, 1e-4, 5e-4],\n",
    "    'C': [7, 9, 10, 15, 25, 40],\n",
    "    'fit_intercept': [True],\n",
    "    'intercept_scaling': [7, 9, 10, 15, 25, 40],\n",
    "    'class_weight': ['balanced'],\n",
    "    'solver': ['liblinear'],\n",
    "}\n",
    "\n",
    "model = model_selection.GridSearchCV(\n",
    "    estimator=logreg,\n",
    "    param_grid=param_grid,\n",
    "    scoring='accuracy',\n",
    "    verbose=1,\n",
    "    n_jobs=cpus-1,\n",
    "    cv=5\n",
    ")\n",
    "model.fit(X_train_normalized, y_train)\n",
    "print(model.best_score_)\n",
    "print(model.best_estimator_.get_params())"
   ]
  },
  {
   "cell_type": "code",
   "execution_count": 377,
   "id": "a58385fa",
   "metadata": {},
   "outputs": [
    {
     "name": "stdout",
     "output_type": "stream",
     "text": [
      "cpus =  16\n",
      "Fitting 5 folds for each of 45 candidates, totalling 225 fits\n",
      "0.8329163793952528\n",
      "{'C': 40, 'class_weight': 'balanced', 'dual': True, 'fit_intercept': True, 'intercept_scaling': 9, 'l1_ratio': None, 'max_iter': 100, 'multi_class': 'auto', 'n_jobs': None, 'penalty': 'l2', 'random_state': None, 'solver': 'liblinear', 'tol': 8e-05, 'verbose': 0, 'warm_start': False}\n"
     ]
    },
    {
     "name": "stderr",
     "output_type": "stream",
     "text": [
      "C:\\Anaconda3\\lib\\site-packages\\sklearn\\svm\\_base.py:985: ConvergenceWarning: Liblinear failed to converge, increase the number of iterations.\n",
      "  warnings.warn(\"Liblinear failed to converge, increase \"\n"
     ]
    }
   ],
   "source": [
    "# -- Grid Search\n",
    "from sklearn import model_selection\n",
    "import multiprocessing\n",
    "cpus = multiprocessing.cpu_count()\n",
    "print('cpus = ',cpus)\n",
    "\n",
    "logreg = LogisticRegression()\n",
    "param_grid = {\n",
    "    'penalty': ['l2'],\n",
    "    'dual': [True], \n",
    "    'tol': [8e-5, 5e-4, 7e-4],\n",
    "    'C': [30, 35, 40, 42, 45],\n",
    "    'fit_intercept': [True],\n",
    "    'intercept_scaling': [8, 9, 9.5],\n",
    "    'class_weight': ['balanced'],\n",
    "    'solver': ['liblinear'],\n",
    "}\n",
    "\n",
    "model = model_selection.GridSearchCV(\n",
    "    estimator=logreg,\n",
    "    param_grid=param_grid,\n",
    "    scoring='accuracy',\n",
    "    verbose=1,\n",
    "    n_jobs=cpus-1,\n",
    "    cv=5\n",
    ")\n",
    "model.fit(X_train_normalized, y_train)\n",
    "print(model.best_score_)\n",
    "print(model.best_estimator_.get_params())"
   ]
  },
  {
   "cell_type": "code",
   "execution_count": 423,
   "id": "fc4e5c97",
   "metadata": {},
   "outputs": [
    {
     "name": "stderr",
     "output_type": "stream",
     "text": [
      "C:\\Anaconda3\\lib\\site-packages\\sklearn\\svm\\_base.py:985: ConvergenceWarning: Liblinear failed to converge, increase the number of iterations.\n",
      "  warnings.warn(\"Liblinear failed to converge, increase \"\n"
     ]
    },
    {
     "data": {
      "text/plain": [
       "0.16201117318435754"
      ]
     },
     "execution_count": 423,
     "metadata": {},
     "output_type": "execute_result"
    }
   ],
   "source": [
    "# -- Use model with the best hyperparameters\n",
    "from sklearn.linear_model import LogisticRegression\n",
    "logreg_paras = {'C': 40, 'class_weight': 'balanced', 'dual': True, 'fit_intercept': True, 'intercept_scaling': 9, 'l1_ratio': None, 'max_iter': 100, 'multi_class': 'auto', 'n_jobs': None, 'penalty': 'l2', 'random_state': None, 'solver': 'liblinear', 'tol': 8e-05, 'verbose': 0, 'warm_start': False}\n",
    "logreg_best = LogisticRegression(\n",
    "    **logreg_paras\n",
    ")\n",
    "logreg_best.fit(X_train_normalized, y_train)# Predict on the test data\n",
    "logreg_best_predictions = logreg_best.predict(X_valid_normalized)\n",
    "logreg_best_predictions\n",
    "# -- Mean Absolute Error\n",
    "abs(y_valid.to_numpy()-logreg_best_predictions).sum() / len(logreg_best_predictions)"
   ]
  },
  {
   "cell_type": "code",
   "execution_count": 424,
   "id": "5827b6f0",
   "metadata": {},
   "outputs": [
    {
     "name": "stderr",
     "output_type": "stream",
     "text": [
      "C:\\Anaconda3\\lib\\site-packages\\sklearn\\svm\\_base.py:985: ConvergenceWarning: Liblinear failed to converge, increase the number of iterations.\n",
      "  warnings.warn(\"Liblinear failed to converge, increase \"\n",
      "C:\\Anaconda3\\lib\\site-packages\\sklearn\\svm\\_base.py:985: ConvergenceWarning: Liblinear failed to converge, increase the number of iterations.\n",
      "  warnings.warn(\"Liblinear failed to converge, increase \"\n",
      "C:\\Anaconda3\\lib\\site-packages\\sklearn\\svm\\_base.py:985: ConvergenceWarning: Liblinear failed to converge, increase the number of iterations.\n",
      "  warnings.warn(\"Liblinear failed to converge, increase \"\n",
      "C:\\Anaconda3\\lib\\site-packages\\sklearn\\svm\\_base.py:985: ConvergenceWarning: Liblinear failed to converge, increase the number of iterations.\n",
      "  warnings.warn(\"Liblinear failed to converge, increase \"\n",
      "C:\\Anaconda3\\lib\\site-packages\\sklearn\\svm\\_base.py:985: ConvergenceWarning: Liblinear failed to converge, increase the number of iterations.\n",
      "  warnings.warn(\"Liblinear failed to converge, increase \"\n"
     ]
    },
    {
     "data": {
      "text/plain": [
       "array([0.79020979, 0.81818182, 0.81690141, 0.83098592, 0.81690141])"
      ]
     },
     "execution_count": 424,
     "metadata": {},
     "output_type": "execute_result"
    }
   ],
   "source": [
    "# -- K-Fold Cross Validation\n",
    "from sklearn.model_selection import cross_val_score\n",
    "skf = StratifiedKFold(n_splits=5, shuffle=True)\n",
    "scores = cross_val_score(\n",
    "    logreg_best, X_train_normalized, y_train, cv=skf, scoring='accuracy'\n",
    ")\n",
    "scores"
   ]
  },
  {
   "cell_type": "code",
   "execution_count": 426,
   "id": "50deb66d",
   "metadata": {},
   "outputs": [
    {
     "data": {
      "text/plain": [
       "0.8146360699999999"
      ]
     },
     "execution_count": 426,
     "metadata": {},
     "output_type": "execute_result"
    }
   ],
   "source": [
    "np.array([0.79020979, 0.81818182, 0.81690141, 0.83098592, 0.81690141]).mean()"
   ]
  },
  {
   "cell_type": "code",
   "execution_count": 425,
   "id": "cb085d43",
   "metadata": {},
   "outputs": [
    {
     "name": "stderr",
     "output_type": "stream",
     "text": [
      "C:\\Anaconda3\\lib\\site-packages\\sklearn\\svm\\_base.py:985: ConvergenceWarning: Liblinear failed to converge, increase the number of iterations.\n",
      "  warnings.warn(\"Liblinear failed to converge, increase \"\n",
      "C:\\Anaconda3\\lib\\site-packages\\sklearn\\svm\\_base.py:985: ConvergenceWarning: Liblinear failed to converge, increase the number of iterations.\n",
      "  warnings.warn(\"Liblinear failed to converge, increase \"\n",
      "C:\\Anaconda3\\lib\\site-packages\\sklearn\\svm\\_base.py:985: ConvergenceWarning: Liblinear failed to converge, increase the number of iterations.\n",
      "  warnings.warn(\"Liblinear failed to converge, increase \"\n",
      "C:\\Anaconda3\\lib\\site-packages\\sklearn\\svm\\_base.py:985: ConvergenceWarning: Liblinear failed to converge, increase the number of iterations.\n",
      "  warnings.warn(\"Liblinear failed to converge, increase \"\n",
      "C:\\Anaconda3\\lib\\site-packages\\sklearn\\svm\\_base.py:985: ConvergenceWarning: Liblinear failed to converge, increase the number of iterations.\n",
      "  warnings.warn(\"Liblinear failed to converge, increase \"\n"
     ]
    },
    {
     "data": {
      "text/plain": [
       "array([0.77777778, 0.86111111, 0.72222222, 0.77777778, 0.85714286])"
      ]
     },
     "execution_count": 425,
     "metadata": {},
     "output_type": "execute_result"
    }
   ],
   "source": [
    "# -- K-Fold Cross Validation\n",
    "from sklearn.model_selection import cross_val_score\n",
    "skf = StratifiedKFold(n_splits=5, shuffle=True)\n",
    "scores = cross_val_score(\n",
    "    logreg_best, X_valid_normalized, y_valid, cv=skf, scoring='accuracy'\n",
    ")\n",
    "scores"
   ]
  },
  {
   "cell_type": "code",
   "execution_count": 427,
   "id": "379838f6",
   "metadata": {},
   "outputs": [
    {
     "data": {
      "text/plain": [
       "0.7992063500000001"
      ]
     },
     "execution_count": 427,
     "metadata": {},
     "output_type": "execute_result"
    }
   ],
   "source": [
    "np.array([0.77777778, 0.86111111, 0.72222222, 0.77777778, 0.85714286]).mean()"
   ]
  },
  {
   "cell_type": "code",
   "execution_count": 399,
   "id": "92053dec",
   "metadata": {},
   "outputs": [
    {
     "name": "stderr",
     "output_type": "stream",
     "text": [
      "C:\\Anaconda3\\lib\\site-packages\\sklearn\\svm\\_base.py:985: ConvergenceWarning: Liblinear failed to converge, increase the number of iterations.\n",
      "  warnings.warn(\"Liblinear failed to converge, increase \"\n"
     ]
    },
    {
     "data": {
      "text/plain": [
       "array([0, 0, 0, 0, 1, 0, 1, 0, 1, 0, 0, 0, 1, 0, 1, 1, 0, 0, 0, 1, 0, 0,\n",
       "       1, 0, 1, 0, 1, 0, 0, 0, 0, 0, 1, 0, 0, 0, 1, 0, 0, 1, 0, 1, 0, 1,\n",
       "       1, 0, 0, 0, 1, 1, 0, 0, 1, 1, 0, 0, 0, 0, 0, 1, 0, 0, 0, 1, 1, 1,\n",
       "       1, 0, 1, 1, 1, 0, 1, 1, 1, 0, 0, 1, 0, 1, 0, 0, 0, 0, 0, 0, 1, 1,\n",
       "       1, 0, 1, 0, 1, 0, 0, 0, 0, 0, 1, 0, 1, 0, 0, 0, 1, 0, 0, 0, 0, 1,\n",
       "       0, 1, 1, 1, 1, 0, 0, 1, 1, 1, 1, 0, 1, 0, 0, 1, 0, 1, 0, 0, 0, 0,\n",
       "       0, 0, 0, 0, 0, 0, 1, 0, 0, 1, 0, 0, 0, 0, 0, 0, 0, 0, 1, 0, 0, 1,\n",
       "       0, 0, 1, 1, 0, 1, 1, 0, 1, 0, 0, 1, 0, 0, 1, 1, 0, 0, 0, 0, 0, 1,\n",
       "       1, 0, 1, 1, 0, 1, 1, 0, 1, 0, 1, 0, 0, 0, 0, 0, 0, 0, 0, 0, 1, 1,\n",
       "       0, 1, 1, 0, 0, 1, 0, 0, 1, 0, 1, 0, 0, 0, 0, 1, 1, 0, 1, 0, 1, 0,\n",
       "       1, 0, 1, 0, 1, 1, 0, 1, 0, 0, 0, 1, 0, 0, 1, 0, 0, 0, 1, 1, 1, 1,\n",
       "       0, 0, 0, 0, 1, 0, 1, 1, 1, 0, 1, 0, 0, 0, 0, 0, 1, 0, 0, 0, 1, 1,\n",
       "       0, 0, 0, 0, 1, 0, 0, 0, 1, 1, 0, 1, 0, 0, 0, 0, 0, 0, 1, 1, 0, 0,\n",
       "       0, 1, 0, 0, 0, 1, 0, 1, 0, 0, 1, 0, 0, 0, 0, 0, 0, 0, 1, 1, 0, 0,\n",
       "       0, 0, 0, 0, 0, 1, 1, 1, 0, 0, 0, 0, 0, 0, 0, 0, 1, 0, 1, 0, 0, 0,\n",
       "       1, 1, 0, 1, 0, 1, 0, 0, 0, 0, 0, 0, 0, 1, 0, 1, 0, 1, 0, 1, 1, 0,\n",
       "       0, 0, 1, 0, 1, 0, 0, 1, 0, 1, 1, 0, 1, 0, 0, 0, 1, 0, 0, 1, 0, 0,\n",
       "       1, 1, 1, 0, 0, 1, 0, 0, 1, 1, 0, 1, 0, 0, 0, 0, 1, 1, 0, 0, 0, 1,\n",
       "       0, 1, 0, 0, 1, 0, 1, 0, 1, 0, 0, 0, 1, 1, 1, 1, 1, 0, 1, 0, 0, 0],\n",
       "      dtype=int64)"
      ]
     },
     "execution_count": 399,
     "metadata": {},
     "output_type": "execute_result"
    }
   ],
   "source": [
    "# -- Train model with all data and predict with test data\n",
    "# \n",
    "X_train_final = np.concatenate( (X_train_normalized, X_valid_normalized) )\n",
    "y_train_final = np.concatenate( (y_train, y_valid) )\n",
    "# \n",
    "from sklearn.linear_model import LogisticRegression\n",
    "logreg_paras = {'C': 40, 'class_weight': 'balanced', 'dual': True, 'fit_intercept': True, 'intercept_scaling': 9, 'l1_ratio': None, 'max_iter': 100, 'multi_class': 'auto', 'n_jobs': None, 'penalty': 'l2', 'random_state': None, 'solver': 'liblinear', 'tol': 8e-05, 'verbose': 0, 'warm_start': False}\n",
    "logreg_best_final = LogisticRegression(\n",
    "    **logreg_paras\n",
    ")\n",
    "logreg_best_final.fit(X_train_final, y_train_final)# Predict on the test data\n",
    "logreg_best_final_predictions = logreg_best_final.predict(X_test_normalized)\n",
    "logreg_best_final_predictions\n",
    "# logreg_data = pd.read_csv('test.csv')\n",
    "# logreg_data.insert((logreg_data.shape[1]),'Survived',logreg_predictions)\n",
    "# logreg_data.to_csv('LogisticRegression_SS_OH_FE2.csv')\n",
    "# -- Mean Absolute Error\n"
   ]
  },
  {
   "cell_type": "code",
   "execution_count": 411,
   "id": "518b1d4b",
   "metadata": {},
   "outputs": [],
   "source": [
    "logreg_test_prediction = pd.DataFrame(\n",
    "    {\n",
    "        'PassengerId': df_test_raw['PassengerId'].to_numpy(), \n",
    "        'Survived': logreg_best_final_predictions\n",
    "    }\n",
    ")\n",
    "logreg_test_prediction.to_csv('submission1(Logistic Regression).csv', index=False)"
   ]
  },
  {
   "cell_type": "code",
   "execution_count": 405,
   "id": "6424dc58",
   "metadata": {},
   "outputs": [
    {
     "data": {
      "text/plain": [
       "0       892\n",
       "1       893\n",
       "2       894\n",
       "3       895\n",
       "4       896\n",
       "       ... \n",
       "413    1305\n",
       "414    1306\n",
       "415    1307\n",
       "416    1308\n",
       "417    1309\n",
       "Name: PassengerId, Length: 418, dtype: int64"
      ]
     },
     "execution_count": 405,
     "metadata": {},
     "output_type": "execute_result"
    }
   ],
   "source": [
    "df_test_raw['PassengerId']"
   ]
  },
  {
   "cell_type": "markdown",
   "id": "25029a42",
   "metadata": {},
   "source": [
    "### LinearRegression"
   ]
  },
  {
   "cell_type": "code",
   "execution_count": 356,
   "id": "93bfb442",
   "metadata": {},
   "outputs": [
    {
     "data": {
      "text/plain": [
       "0.39664804469273746"
      ]
     },
     "execution_count": 356,
     "metadata": {},
     "output_type": "execute_result"
    }
   ],
   "source": [
    "from sklearn.linear_model import LinearRegression\n",
    "linereg = LinearRegression()# Fit our model to the training data\n",
    "linereg.fit(X_train_normalized, y_train)# Predict on the test data\n",
    "linereg_predictions = linereg.predict(X_valid_normalized)\n",
    "# -- Cast prediction to 0 xor 1\n",
    "linereg_predictions_int = []\n",
    "for i in linereg_predictions:\n",
    "    if i < .5:\n",
    "        linereg_predictions_int.append(0)\n",
    "    else:\n",
    "        linereg_predictions_int.append(1)\n",
    "linereg_predictions_int\n",
    "# -- Mean Absolute Error\n",
    "abs(y_valid.to_numpy()-linereg_predictions_int).sum() / len(linereg_predictions_int)"
   ]
  },
  {
   "cell_type": "code",
   "execution_count": null,
   "id": "d477c77b",
   "metadata": {},
   "outputs": [],
   "source": []
  },
  {
   "cell_type": "code",
   "execution_count": 325,
   "id": "8f99a890",
   "metadata": {},
   "outputs": [],
   "source": [
    "# -- Save prediction\n"
   ]
  }
 ],
 "metadata": {
  "kernelspec": {
   "display_name": "Python 3 (ipykernel)",
   "language": "python",
   "name": "python3"
  },
  "language_info": {
   "codemirror_mode": {
    "name": "ipython",
    "version": 3
   },
   "file_extension": ".py",
   "mimetype": "text/x-python",
   "name": "python",
   "nbconvert_exporter": "python",
   "pygments_lexer": "ipython3",
   "version": "3.9.7"
  }
 },
 "nbformat": 4,
 "nbformat_minor": 5
}
